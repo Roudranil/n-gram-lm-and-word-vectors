{
  "cells": [
    {
      "cell_type": "markdown",
      "metadata": {
        "id": "ZugIUDySvIKB"
      },
      "source": [
        "## Roudranil Das\n",
        "\n",
        "#### Roll: MDS202227\n",
        "\n",
        "#### Email: [roudranil@cmi.ac.in](mailto:roudranil@cmi.ac.in)\n"
      ]
    },
    {
      "cell_type": "markdown",
      "metadata": {
        "id": "aRU2Iq7dvKRX"
      },
      "source": [
        "# Setup\n"
      ]
    },
    {
      "cell_type": "code",
      "execution_count": null,
      "metadata": {
        "colab": {
          "base_uri": "https://localhost:8080/"
        },
        "id": "MNUkq_yhvB75",
        "outputId": "b50315e7-163d-4556-82f5-02e05c747cc4"
      },
      "outputs": [
        {
          "name": "stdout",
          "output_type": "stream",
          "text": [
            "Mounted at /content/drive\n"
          ]
        }
      ],
      "source": [
        "from google.colab import drive\n",
        "drive.mount(\"/content/drive\", force_remount=True)\n",
        "! ln -s /content/drive/MyDrive/nlp-assignments/assignment-2/ assignment-2"
      ]
    },
    {
      "cell_type": "code",
      "execution_count": null,
      "metadata": {
        "id": "4TbG4SZFvMLO"
      },
      "outputs": [],
      "source": [
        "# ! pip install sentencepiece\n",
        "# ! sudo apt-get install texlive-latex-recommended\n",
        "# ! sudo apt-get install dvipng texlive-latex-extra texlive-fonts-recommended\n",
        "# ! wget http://mirrors.ctan.org/macros/latex/contrib/type1cm.zip\n",
        "# ! unzip type1cm.zip -d /tmp/type1cm\n",
        "# ! cd /tmp/type1cm/type1cm/ && sudo latex type1cm.ins\n",
        "# ! sudo mkdir /usr/share/texmf/tex/latex/type1cm\n",
        "# ! sudo cp /tmp/type1cm/type1cm/type1cm.sty /usr/share/texmf/tex/latex/type1cm\n",
        "# ! sudo texhash\n",
        "# ! apt install cm-super"
      ]
    },
    {
      "cell_type": "markdown",
      "metadata": {
        "id": "zpMmlppJvfXB"
      },
      "source": [
        "# Imports\n"
      ]
    },
    {
      "cell_type": "code",
      "execution_count": null,
      "metadata": {
        "id": "bjIBTOsDvUnX"
      },
      "outputs": [],
      "source": [
        "import numpy as np\n",
        "import pandas as pd\n",
        "from collections import Counter\n",
        "import matplotlib.pyplot as plt\n",
        "import matplotlib as mpl\n",
        "import seaborn as sns"
      ]
    },
    {
      "cell_type": "code",
      "execution_count": null,
      "metadata": {
        "id": "Yn73rO0mvhC7"
      },
      "outputs": [],
      "source": [
        "import gc\n",
        "from tqdm.auto import tqdm\n",
        "from time import time\n",
        "import glob\n",
        "import os\n",
        "from collections import defaultdict\n",
        "import pickle\n",
        "import random\n",
        "import concurrent.futures"
      ]
    },
    {
      "cell_type": "code",
      "execution_count": null,
      "metadata": {
        "id": "12a9pVtbwxmt"
      },
      "outputs": [],
      "source": [
        "import nltk\n",
        "from nltk import pad_sequence, ngrams"
      ]
    },
    {
      "cell_type": "code",
      "execution_count": null,
      "metadata": {
        "colab": {
          "base_uri": "https://localhost:8080/"
        },
        "id": "voArXWmuviLW",
        "outputId": "b43944cc-b9f2-4117-a7a9-ee091c57a6d5"
      },
      "outputs": [
        {
          "name": "stderr",
          "output_type": "stream",
          "text": [
            "[nltk_data] Downloading package punkt to /root/nltk_data...\n",
            "[nltk_data]   Unzipping tokenizers/punkt.zip.\n",
            "[nltk_data] Downloading collection 'book'\n",
            "[nltk_data]    | \n",
            "[nltk_data]    | Downloading package abc to /root/nltk_data...\n",
            "[nltk_data]    |   Unzipping corpora/abc.zip.\n",
            "[nltk_data]    | Downloading package brown to /root/nltk_data...\n",
            "[nltk_data]    |   Unzipping corpora/brown.zip.\n",
            "[nltk_data]    | Downloading package chat80 to /root/nltk_data...\n",
            "[nltk_data]    |   Unzipping corpora/chat80.zip.\n",
            "[nltk_data]    | Downloading package cmudict to /root/nltk_data...\n",
            "[nltk_data]    |   Unzipping corpora/cmudict.zip.\n",
            "[nltk_data]    | Downloading package conll2000 to /root/nltk_data...\n",
            "[nltk_data]    |   Unzipping corpora/conll2000.zip.\n",
            "[nltk_data]    | Downloading package conll2002 to /root/nltk_data...\n",
            "[nltk_data]    |   Unzipping corpora/conll2002.zip.\n",
            "[nltk_data]    | Downloading package dependency_treebank to\n",
            "[nltk_data]    |     /root/nltk_data...\n",
            "[nltk_data]    |   Unzipping corpora/dependency_treebank.zip.\n",
            "[nltk_data]    | Downloading package genesis to /root/nltk_data...\n",
            "[nltk_data]    |   Unzipping corpora/genesis.zip.\n",
            "[nltk_data]    | Downloading package gutenberg to /root/nltk_data...\n",
            "[nltk_data]    |   Unzipping corpora/gutenberg.zip.\n",
            "[nltk_data]    | Downloading package ieer to /root/nltk_data...\n",
            "[nltk_data]    |   Unzipping corpora/ieer.zip.\n",
            "[nltk_data]    | Downloading package inaugural to /root/nltk_data...\n",
            "[nltk_data]    |   Unzipping corpora/inaugural.zip.\n",
            "[nltk_data]    | Downloading package movie_reviews to\n",
            "[nltk_data]    |     /root/nltk_data...\n",
            "[nltk_data]    |   Unzipping corpora/movie_reviews.zip.\n",
            "[nltk_data]    | Downloading package nps_chat to /root/nltk_data...\n",
            "[nltk_data]    |   Unzipping corpora/nps_chat.zip.\n",
            "[nltk_data]    | Downloading package names to /root/nltk_data...\n",
            "[nltk_data]    |   Unzipping corpora/names.zip.\n",
            "[nltk_data]    | Downloading package ppattach to /root/nltk_data...\n",
            "[nltk_data]    |   Unzipping corpora/ppattach.zip.\n",
            "[nltk_data]    | Downloading package reuters to /root/nltk_data...\n",
            "[nltk_data]    | Downloading package senseval to /root/nltk_data...\n",
            "[nltk_data]    |   Unzipping corpora/senseval.zip.\n",
            "[nltk_data]    | Downloading package state_union to /root/nltk_data...\n",
            "[nltk_data]    |   Unzipping corpora/state_union.zip.\n",
            "[nltk_data]    | Downloading package stopwords to /root/nltk_data...\n",
            "[nltk_data]    |   Unzipping corpora/stopwords.zip.\n",
            "[nltk_data]    | Downloading package swadesh to /root/nltk_data...\n",
            "[nltk_data]    |   Unzipping corpora/swadesh.zip.\n",
            "[nltk_data]    | Downloading package timit to /root/nltk_data...\n",
            "[nltk_data]    |   Unzipping corpora/timit.zip.\n",
            "[nltk_data]    | Downloading package treebank to /root/nltk_data...\n",
            "[nltk_data]    |   Unzipping corpora/treebank.zip.\n",
            "[nltk_data]    | Downloading package toolbox to /root/nltk_data...\n",
            "[nltk_data]    |   Unzipping corpora/toolbox.zip.\n",
            "[nltk_data]    | Downloading package udhr to /root/nltk_data...\n",
            "[nltk_data]    |   Unzipping corpora/udhr.zip.\n",
            "[nltk_data]    | Downloading package udhr2 to /root/nltk_data...\n",
            "[nltk_data]    |   Unzipping corpora/udhr2.zip.\n",
            "[nltk_data]    | Downloading package unicode_samples to\n",
            "[nltk_data]    |     /root/nltk_data...\n",
            "[nltk_data]    |   Unzipping corpora/unicode_samples.zip.\n",
            "[nltk_data]    | Downloading package webtext to /root/nltk_data...\n",
            "[nltk_data]    |   Unzipping corpora/webtext.zip.\n",
            "[nltk_data]    | Downloading package wordnet to /root/nltk_data...\n",
            "[nltk_data]    | Downloading package wordnet_ic to /root/nltk_data...\n",
            "[nltk_data]    |   Unzipping corpora/wordnet_ic.zip.\n",
            "[nltk_data]    | Downloading package words to /root/nltk_data...\n",
            "[nltk_data]    |   Unzipping corpora/words.zip.\n",
            "[nltk_data]    | Downloading package maxent_treebank_pos_tagger to\n",
            "[nltk_data]    |     /root/nltk_data...\n",
            "[nltk_data]    |   Unzipping taggers/maxent_treebank_pos_tagger.zip.\n",
            "[nltk_data]    | Downloading package maxent_ne_chunker to\n",
            "[nltk_data]    |     /root/nltk_data...\n",
            "[nltk_data]    |   Unzipping chunkers/maxent_ne_chunker.zip.\n",
            "[nltk_data]    | Downloading package universal_tagset to\n",
            "[nltk_data]    |     /root/nltk_data...\n",
            "[nltk_data]    |   Unzipping taggers/universal_tagset.zip.\n",
            "[nltk_data]    | Downloading package punkt to /root/nltk_data...\n",
            "[nltk_data]    |   Package punkt is already up-to-date!\n",
            "[nltk_data]    | Downloading package book_grammars to\n",
            "[nltk_data]    |     /root/nltk_data...\n",
            "[nltk_data]    |   Unzipping grammars/book_grammars.zip.\n",
            "[nltk_data]    | Downloading package city_database to\n",
            "[nltk_data]    |     /root/nltk_data...\n",
            "[nltk_data]    |   Unzipping corpora/city_database.zip.\n",
            "[nltk_data]    | Downloading package tagsets to /root/nltk_data...\n",
            "[nltk_data]    |   Unzipping help/tagsets.zip.\n",
            "[nltk_data]    | Downloading package panlex_swadesh to\n",
            "[nltk_data]    |     /root/nltk_data...\n",
            "[nltk_data]    | Downloading package averaged_perceptron_tagger to\n",
            "[nltk_data]    |     /root/nltk_data...\n",
            "[nltk_data]    |   Unzipping taggers/averaged_perceptron_tagger.zip.\n",
            "[nltk_data]    | \n",
            "[nltk_data]  Done downloading collection book\n"
          ]
        },
        {
          "data": {
            "text/plain": [
              "True"
            ]
          },
          "execution_count": 5,
          "metadata": {},
          "output_type": "execute_result"
        }
      ],
      "source": [
        "nltk.download(\"punkt\")\n",
        "nltk.download(\"book\")"
      ]
    },
    {
      "cell_type": "code",
      "execution_count": null,
      "metadata": {
        "id": "fND1hD4TvjRw"
      },
      "outputs": [],
      "source": [
        "plt.rcParams.update(\n",
        "    {\"figure.figsize\": (8, 5), \"text.usetex\": True, \"font.family\": \"serif\"}\n",
        ")"
      ]
    },
    {
      "cell_type": "code",
      "execution_count": null,
      "metadata": {
        "id": "2Qau5udQesoz"
      },
      "outputs": [],
      "source": [
        "MODEL_DIR = \"assignment-2/saved-models\""
      ]
    },
    {
      "cell_type": "markdown",
      "metadata": {
        "id": "yt3WJ7A3wQVz"
      },
      "source": [
        "# Extraction and cleaning\n"
      ]
    },
    {
      "cell_type": "code",
      "execution_count": null,
      "metadata": {
        "id": "9nYZDRO1wFnQ"
      },
      "outputs": [],
      "source": [
        "with open(\"assignment-2/data/wikisent.txt\", \"r\") as f:\n",
        "    fulltext = f.readlines()"
      ]
    },
    {
      "cell_type": "code",
      "execution_count": null,
      "metadata": {
        "colab": {
          "base_uri": "https://localhost:8080/"
        },
        "id": "8HLvSxv4wUPl",
        "outputId": "b4cbdf3f-6c07-473a-f24a-693c3b06db9c"
      },
      "outputs": [
        {
          "name": "stderr",
          "output_type": "stream",
          "text": [
            "100%|██████████| 181/181 [00:16<00:00, 10.98it/s, Exporting file 180]\n"
          ]
        }
      ],
      "source": [
        "loop = tqdm(range(43000, 7818536, 43000))\n",
        "for _, i in enumerate(loop):\n",
        "    loop.set_postfix_str(f\"Exporting file {_}\")\n",
        "    subtext = fulltext[i - 43000 : i]\n",
        "    with open(f\"assignment-2/data/english-{_}.txt\", \"w\") as f:\n",
        "        f.writelines(subtext)\n",
        "        f.close()"
      ]
    },
    {
      "cell_type": "code",
      "execution_count": null,
      "metadata": {
        "id": "uuQ05VArwmx1"
      },
      "outputs": [],
      "source": [
        "def clean_raw_input(filename: str):\n",
        "    \"\"\"\n",
        "    A function to take the filename of the raw input file as input and process the corresponding text file\n",
        "    preprocessing includes:\n",
        "    - removing everything except english letters, white space and new line\n",
        "    - converting upper case letters to lower case\n",
        "\n",
        "    TODO\n",
        "    ----\n",
        "    Convert everything that uses numpy to use pytorch and use gpu to speed up the computation\n",
        "\n",
        "    Parameters\n",
        "    ----------\n",
        "    filename:   str\n",
        "                Name of the file to be processed\n",
        "\n",
        "    Output\n",
        "    ------\n",
        "    Saves the processed file with the same filename\n",
        "    \"\"\"\n",
        "    with open(f\"assignment-2/data/{filename}\", \"r\") as f:\n",
        "        text = f.read()\n",
        "    text = text.lower()\n",
        "    # the next two lines basically converts every char in the string to its unicode code\n",
        "    text_array = np.array(list(text))\n",
        "    unicode_array = text_array.view(np.int32)\n",
        "    del text\n",
        "    gc.collect()\n",
        "    # we can use this vector of unicode codes to filter out what we need\n",
        "    # this makes things faster as we are leveraging numpy's vectorised operations\n",
        "    cleaned_text_array = text_array[\n",
        "        (\n",
        "            np.greater_equal(unicode_array, 97) & np.less_equal(unicode_array, 122)\n",
        "        )  # lower case letters\n",
        "        | (np.equal(unicode_array, 32))  # white space\n",
        "        | (np.equal(unicode_array, 10))  # new line\n",
        "    ]\n",
        "    cleaned_text = \"\".join(cleaned_text_array)\n",
        "    with open(f\"assignment-2/cleaned-data/{filename}\", \"w\") as f:\n",
        "        f.write(cleaned_text)\n",
        "        f.close()\n",
        "    del text_array\n",
        "    del unicode_array\n",
        "    del cleaned_text_array\n",
        "    del cleaned_text\n",
        "    gc.collect()"
      ]
    },
    {
      "cell_type": "code",
      "execution_count": null,
      "metadata": {
        "id": "7IPhny04wwid"
      },
      "outputs": [],
      "source": [
        "# here i preprocess all the input files\n",
        "\n",
        "loop = tqdm(glob.glob(\"assignment-2/data/*.txt\"))\n",
        "for filename in loop:\n",
        "    loop.set_postfix_str(f\"Parsing file {os.path.basename(filename)}\")\n",
        "    clean_raw_input(filename)"
      ]
    },
    {
      "cell_type": "markdown",
      "metadata": {
        "id": "uK3AsgrFxu8C"
      },
      "source": [
        "# Part 1\n",
        "\n",
        "## 1. Display the total sentence count.\n",
        "\n",
        "Answer: Since each file in this corpus contains one sentence one each line, the total number of sentencese is equal to the total number of lines.\n"
      ]
    },
    {
      "cell_type": "code",
      "execution_count": null,
      "metadata": {
        "colab": {
          "base_uri": "https://localhost:8080/"
        },
        "id": "uZei9p4xwxsC",
        "outputId": "c747658f-6a72-4d44-d705-6d81d17bd448"
      },
      "outputs": [
        {
          "name": "stderr",
          "output_type": "stream",
          "text": [
            "100%|██████████| 181/181 [01:38<00:00,  1.85it/s]"
          ]
        },
        {
          "name": "stdout",
          "output_type": "stream",
          "text": [
            "\n",
            "Total sentence count is 7783000\n"
          ]
        },
        {
          "name": "stderr",
          "output_type": "stream",
          "text": [
            "\n"
          ]
        }
      ],
      "source": [
        "loop = tqdm(os.listdir(\"assignment-2/cleaned-data\"))\n",
        "sentence_count = 0\n",
        "for filename in loop:\n",
        "    with open(f\"assignment-2/data/{filename}\", \"r\") as f:\n",
        "        text = f.readlines()\n",
        "    sentence_count += len(text)\n",
        "    del text\n",
        "    gc.collect()\n",
        "\n",
        "print(f\"\\nTotal sentence count is {sentence_count}\")"
      ]
    },
    {
      "cell_type": "markdown",
      "metadata": {
        "id": "OqhyMeYKE_eo"
      },
      "source": [
        "## 2. Build a 4 gram language model\n"
      ]
    },
    {
      "cell_type": "code",
      "execution_count": null,
      "metadata": {
        "id": "snsfXX21jrTL"
      },
      "outputs": [],
      "source": [
        "def build_4gram_model(model, text):\n",
        "    ngram_tuples = []\n",
        "    for line in text:\n",
        "        ngram_tuples.extend(\n",
        "            ngrams(\n",
        "                line.split(),\n",
        "                4,\n",
        "                pad_left=True,\n",
        "                pad_right=True,\n",
        "                left_pad_symbol=\"<S>\",\n",
        "                right_pad_symbol=\"<E>\",\n",
        "            )\n",
        "        )\n",
        "\n",
        "    for gram in ngram_tuples:\n",
        "        prefix = \" \".join(gram[:-1])\n",
        "        suffix = gram[-1]\n",
        "        model[prefix].append(suffix)\n",
        "    del ngram_tuples\n",
        "    gc.collect()\n",
        "    return model\n",
        "\n",
        "\n",
        "def save_model(model, filename):\n",
        "    with open(filename, \"wb\") as f:\n",
        "        pickle.dump(model, f)\n",
        "\n",
        "\n",
        "def load_model(filename):\n",
        "    with open(filename, \"rb\") as f:\n",
        "        return pickle.load(f)"
      ]
    },
    {
      "cell_type": "code",
      "execution_count": null,
      "metadata": {
        "colab": {
          "base_uri": "https://localhost:8080/"
        },
        "id": "BnQkhZXFE_ep",
        "outputId": "79607928-2a85-4992-b4cf-d02bf1ac42f2"
      },
      "outputs": [
        {
          "name": "stderr",
          "output_type": "stream",
          "text": [
            "100%|██████████| 181/181 [31:40<00:00, 10.50s/it, Building ngrams from english-180.txt]\n"
          ]
        }
      ],
      "source": [
        "loop = tqdm(glob.glob(\"assignment-2/cleaned-data/*.txt\"))\n",
        "built_models = list(map(os.path.basename, glob.glob(os.path.join(MODEL_DIR, \"*.pkl\"))))\n",
        "for filename in loop:\n",
        "    if f\"{os.path.basename(filename)[:-4]}.pkl\" in built_models:\n",
        "        continue\n",
        "    model = defaultdict(list)\n",
        "    loop.set_postfix_str(f\"Building ngrams from {os.path.basename(filename)}\")\n",
        "    with open(filename) as f:\n",
        "        text = f.readlines()\n",
        "    text = list(map(nltk.tokenize.word_tokenize, text))\n",
        "    model = build_4gram_model(model, text)\n",
        "    save_model(model, os.path.join(MODEL_DIR, f\"{os.path.basename(filename)[:-4]}.pkl\"))\n",
        "    del text, model\n",
        "    gc.collect()"
      ]
    },
    {
      "cell_type": "markdown",
      "metadata": {
        "id": "Co814pT-u8nC"
      },
      "source": [
        "I had to break the files in to 6 parts and process part by part and save each, otherwise ram was running out.\n"
      ]
    },
    {
      "cell_type": "code",
      "execution_count": null,
      "metadata": {
        "id": "83G5FFDiicso"
      },
      "outputs": [],
      "source": [
        "part1 = glob.glob(os.path.join(MODEL_DIR, \"*.pkl\"))[:30]\n",
        "part2 = glob.glob(os.path.join(MODEL_DIR, \"*.pkl\"))[30:60]\n",
        "part3 = glob.glob(os.path.join(MODEL_DIR, \"*.pkl\"))[60:90]\n",
        "part4 = glob.glob(os.path.join(MODEL_DIR, \"*.pkl\"))[90:120]\n",
        "part5 = glob.glob(os.path.join(MODEL_DIR, \"*.pkl\"))[120:150]\n",
        "part6 = glob.glob(os.path.join(MODEL_DIR, \"*.pkl\"))[150:]\n",
        "parts = [part1, part2, part3, part4, part5, part6]"
      ]
    },
    {
      "cell_type": "code",
      "execution_count": null,
      "metadata": {
        "colab": {
          "base_uri": "https://localhost:8080/"
        },
        "id": "EvAprOvvsgaz",
        "outputId": "7239be74-9725-416d-de61-49ad48c72217"
      },
      "outputs": [
        {
          "name": "stderr",
          "output_type": "stream",
          "text": [
            "100%|██████████| 30/30 [02:10<00:00,  4.35s/it, Combining model for english-29.pkl]\n",
            "100%|██████████| 30/30 [01:24<00:00,  2.83s/it, Combining model for english-59.pkl]\n",
            "100%|██████████| 30/30 [01:09<00:00,  2.30s/it, Combining model for english-89.pkl]\n",
            "100%|██████████| 30/30 [01:21<00:00,  2.71s/it, Combining model for english-119.pkl]\n",
            "100%|██████████| 30/30 [01:42<00:00,  3.41s/it, Combining model for english-149.pkl]\n",
            "100%|██████████| 31/31 [01:28<00:00,  2.87s/it, Combining model for english-180.pkl]\n"
          ]
        }
      ],
      "source": [
        "for idx, part in enumerate(parts):\n",
        "    if f\"part-{idx+1}.pkl\" in os.listdir(\"assignment-2/part-models\"):\n",
        "        print(f\"part-{idx+1}.pkl exists\")\n",
        "        continue\n",
        "    loop = tqdm(part)\n",
        "    model = defaultdict(list)\n",
        "    for model_path in loop:\n",
        "        loop.set_postfix_str(f\"Combining model for {os.path.basename(model_path)}\")\n",
        "        partial_model = load_model(model_path)\n",
        "        for key, values in partial_model.items():\n",
        "            model[key].extend(values)\n",
        "    save_model(model, f\"assignment-2/part-models/part-{idx}.pkl\")\n",
        "    del model, partial_model\n",
        "    gc.collect()"
      ]
    },
    {
      "cell_type": "code",
      "execution_count": null,
      "metadata": {
        "colab": {
          "base_uri": "https://localhost:8080/"
        },
        "id": "xk8F5SZbwVQn",
        "outputId": "214ced74-5bea-43f9-f62b-7fff985cfa4f"
      },
      "outputs": [
        {
          "name": "stderr",
          "output_type": "stream",
          "text": [
            "100%|██████████| 2/2 [02:10<00:00, 65.23s/it, Combining model for part-1.pkl]\n"
          ]
        }
      ],
      "source": [
        "model = defaultdict(list)\n",
        "loop = tqdm(glob.glob(\"assignment-2/part-models/*.pkl\")[:2])\n",
        "for model_path in loop:\n",
        "    loop.set_postfix_str(f\"Combining model for {os.path.basename(model_path)}\")\n",
        "    partial_model = load_model(model_path)\n",
        "    for key, values in partial_model.items():\n",
        "        model[key].extend(values)\n",
        "    del partial_model\n",
        "    gc.collect()"
      ]
    },
    {
      "cell_type": "markdown",
      "metadata": {
        "id": "5ueIVSS3zp0K"
      },
      "source": [
        "I have to use only 60 documents out of the 180 because i am unable to load all in memory\n"
      ]
    },
    {
      "cell_type": "markdown",
      "metadata": {
        "id": "XOXpCTfK7lJL"
      },
      "source": [
        "## 3. Predict the next word\n"
      ]
    },
    {
      "cell_type": "markdown",
      "metadata": {
        "id": "FwOFyhu24EBU"
      },
      "source": [
        "To predict the next word for a given trigram, we calculate the probabiliy of the words that follow it, and then choose the word with the highest probability.\n",
        "\n",
        "In order to generate sentence, we calculate the probability of words that follow a trigram, then we sample a word based on that probability distribution.\n"
      ]
    },
    {
      "cell_type": "code",
      "execution_count": null,
      "metadata": {
        "id": "YO4DrdWgrz74"
      },
      "outputs": [],
      "source": [
        "def predict_next_word(trigram, model):\n",
        "    prefix = \" \".join(trigram)\n",
        "    possible_suffixes = model.get(prefix, [])\n",
        "    if possible_suffixes:\n",
        "        total_count = len(possible_suffixes)\n",
        "        prob = defaultdict(float)\n",
        "        for suffix in possible_suffixes:\n",
        "            prob[suffix] += 1.0\n",
        "        prob = {word: freq / total_count for word, freq in prob.items()}\n",
        "        return max(prob, key=prob.get)\n",
        "    else:\n",
        "        return \"Not in the model\""
      ]
    },
    {
      "cell_type": "code",
      "execution_count": null,
      "metadata": {
        "colab": {
          "base_uri": "https://localhost:8080/"
        },
        "id": "rZ9nQurAzUF6",
        "outputId": "3fa275af-4391-4e9c-b445-6659bc19c317"
      },
      "outputs": [
        {
          "name": "stdout",
          "output_type": "stream",
          "text": [
            "Trigram: ['this', 'is', 'an'], Predicted Next Word: active\n",
            "Trigram: ['is', 'an', 'example'], Predicted Next Word: of\n",
            "Trigram: ['an', 'example', 'of'], Predicted Next Word: increased\n",
            "Trigram: ['example', 'of', 'how'], Predicted Next Word: gay\n",
            "Trigram: ['of', 'how', 'to'], Predicted Next Word: get\n"
          ]
        }
      ],
      "source": [
        "# Test next word prediction with 5 trigram sequences\n",
        "test_sequences = [\n",
        "    [\"this\", \"is\", \"an\"],\n",
        "    [\"is\", \"an\", \"example\"],\n",
        "    [\"an\", \"example\", \"of\"],\n",
        "    [\"example\", \"of\", \"how\"],\n",
        "    [\"of\", \"how\", \"to\"],\n",
        "]\n",
        "\n",
        "for sequence in test_sequences:\n",
        "    next_word = predict_next_word(sequence, model)\n",
        "    print(f\"Trigram: {sequence}, Predicted Next Word: {next_word}\")"
      ]
    },
    {
      "cell_type": "markdown",
      "metadata": {
        "id": "T0q-wYvU7tqs"
      },
      "source": [
        "## 4. Complete the sentence\n"
      ]
    },
    {
      "cell_type": "code",
      "execution_count": null,
      "metadata": {
        "colab": {
          "base_uri": "https://localhost:8080/"
        },
        "id": "hQHOZgQmz0SH",
        "outputId": "f000e094-0492-437d-b3c8-03007aceb9e0"
      },
      "outputs": [
        {
          "name": "stdout",
          "output_type": "stream",
          "text": [
            "\n",
            "\n",
            "<S> <S> hello crazy world is the fourth album by american jazz\n",
            "\n",
            "\n",
            "<S> <S> everyone is either happy in love lost in a ground\n",
            "\n",
            "\n",
            "<S> <S> america is an old maple grove and beech forest in\n",
            "\n",
            "\n",
            "<S> <S> football malaysia organizes and keeps the money\n",
            "\n",
            "\n",
            "<S> <S> chess prodigies are children who are grieving the loss of\n"
          ]
        }
      ],
      "source": [
        "def predict_next_word_sent(prefix, model):\n",
        "    possible_suffixes = model.get(prefix, [])\n",
        "    if possible_suffixes:\n",
        "        total_count = len(possible_suffixes)\n",
        "        prob = defaultdict(float)\n",
        "        for suffix in possible_suffixes:\n",
        "            prob[suffix] += 1.0\n",
        "        prob = {word: freq / total_count for word, freq in prob.items()}\n",
        "        return np.random.choice(list(prob.keys()), p=list(prob.values()))\n",
        "    else:\n",
        "        return \"Not in the model\"\n",
        "\n",
        "\n",
        "def generate_sentence(model, start_word, max_length=12):\n",
        "    sentence = [\"<S>\", \"<S>\"] + [start_word]\n",
        "    while len(sentence) < max_length:\n",
        "        prefix = \" \".join(sentence[-3:])\n",
        "        next_word = predict_next_word_sent(prefix, model)\n",
        "        if next_word == \"Not in the model\":\n",
        "            break  # If there are no predictions, stop the sentence\n",
        "        elif next_word == \"<E>\":\n",
        "            break  # end token has been generated\n",
        "        sentence.append(next_word)\n",
        "    return \" \".join(sentence)\n",
        "\n",
        "\n",
        "start_words = [\"hello\", \"everyone\", \"america\", \"football\", \"chess\"]\n",
        "for _ in start_words:\n",
        "    sentence = generate_sentence(model, _)\n",
        "    print(\"\\n\")\n",
        "    print(sentence)"
      ]
    },
    {
      "cell_type": "markdown",
      "metadata": {
        "id": "pgKaV2YrE_ep"
      },
      "source": [
        "# Part 2\n"
      ]
    },
    {
      "cell_type": "markdown",
      "metadata": {
        "id": "WhsP4moOE_ep"
      },
      "source": [
        "## 1. Use nltk to tag all sentences of the corpus\n"
      ]
    },
    {
      "cell_type": "code",
      "execution_count": null,
      "metadata": {
        "colab": {
          "base_uri": "https://localhost:8080/"
        },
        "id": "EteApykZE_ep",
        "outputId": "e893ea4f-16f1-4c01-ab99-f91064ad3e57"
      },
      "outputs": [
        {
          "name": "stderr",
          "output_type": "stream",
          "text": [
            "[nltk_data] Downloading package averaged_perceptron_tagger to\n",
            "[nltk_data]     /root/nltk_data...\n",
            "[nltk_data]   Unzipping taggers/averaged_perceptron_tagger.zip.\n",
            "[nltk_data] Downloading package maxent_treebank_pos_tagger to\n",
            "[nltk_data]     /root/nltk_data...\n",
            "[nltk_data]   Unzipping taggers/maxent_treebank_pos_tagger.zip.\n"
          ]
        },
        {
          "data": {
            "text/plain": [
              "True"
            ]
          },
          "execution_count": 55,
          "metadata": {},
          "output_type": "execute_result"
        }
      ],
      "source": [
        "# Download the NLTK model for POS tagging (if not already downloaded)\n",
        "nltk.download(\"averaged_perceptron_tagger\")\n",
        "nltk.download(\"maxent_treebank_pos_tagger\")"
      ]
    },
    {
      "cell_type": "markdown",
      "metadata": {
        "id": "2RCNBlSPTBAq"
      },
      "source": [
        "We will use `PerceptronTagger` here. It is fast and reasonably accurate. Although it is not as accurate as `MaxENTTagger` , we use it because it is fast.\n"
      ]
    },
    {
      "cell_type": "code",
      "execution_count": null,
      "metadata": {
        "id": "zwr4mNgmTHmO"
      },
      "outputs": [],
      "source": [
        "# Load the POS tagger model once\n",
        "from nltk.tag.perceptron import PerceptronTagger\n",
        "\n",
        "tagger = PerceptronTagger()\n",
        "pos_tagger = nltk.data.load(\"taggers/maxent_treebank_pos_tagger/english.pickle\")"
      ]
    },
    {
      "cell_type": "code",
      "execution_count": null,
      "metadata": {
        "id": "2IEaQvayE_ep"
      },
      "outputs": [],
      "source": [
        "# Define a function to perform POS tagging on a sentence\n",
        "def pos_tag_sentence(sentence):\n",
        "    words = sentence.split()\n",
        "    tagset = None\n",
        "    pos_tags = nltk.tag._pos_tag(words, tagset, tagger, lang=\"eng\")\n",
        "    return pos_tags\n",
        "\n",
        "\n",
        "# Function to recompose a sentence using POS tags\n",
        "def recompose_sentence_with_pos(pos_tags):\n",
        "    recomposed_sentence = \" \".join([tag for _, tag in pos_tags])\n",
        "    return recomposed_sentence"
      ]
    },
    {
      "cell_type": "code",
      "execution_count": null,
      "metadata": {
        "id": "LQgiJg-8Jpj5"
      },
      "outputs": [],
      "source": [
        "# loop over all the files and all the lines in those files and then recompose and save them\n",
        "loop = tqdm(glob.glob(\"assignment-2/cleaned-data/*.txt\"), position=0)\n",
        "for filename in loop:\n",
        "    loop.set_description_str(f\"File: {os.path.basename(filename)}\")\n",
        "    with open(filename, \"r\") as f:\n",
        "        text = f.readlines()\n",
        "    for i, line in enumerate(\n",
        "        tqdm(\n",
        "            text, position=0, leave=False, desc=f\"Tagging {os.path.basename(filename)}\"\n",
        "        )\n",
        "    ):\n",
        "        pos_tags = pos_tag_sentence(line)\n",
        "        text[i] = recompose_sentence_with_pos(pos_tags)\n",
        "    with open(\n",
        "        os.path.join(\"assignment-2\", \"pos-tagged-data\", os.path.basename(filename)), \"w\"\n",
        "    ) as f:\n",
        "        for line in text:\n",
        "            f.write(line)\n",
        "        f.close()"
      ]
    },
    {
      "cell_type": "markdown",
      "metadata": {
        "id": "GMJEhU2H1hSV"
      },
      "source": [
        "## 2. Finding the frequency of POS structures and finding the frequency of them\n"
      ]
    },
    {
      "cell_type": "code",
      "execution_count": null,
      "metadata": {
        "colab": {
          "base_uri": "https://localhost:8080/",
          "height": 49,
          "referenced_widgets": [
            "13f228378b81405598aa4072b4530099",
            "53d7518a0e744ada83c25921eb95a40f",
            "933b0d37e52b4c2c919519f2c6502bea",
            "734729d7538c424aa62583b0e4b67ec0",
            "b139b7d375874cfbad98b62863394259",
            "d95bb3f8ee2149b397d4044b35c64ef8",
            "55928d0ae011430eba819b04903d1a50",
            "7e889c74c5d640b58c2a2f574217f3f4",
            "229b3aba14294977a6cd344356820343",
            "0d23dc3e9bdd4b3cb337178206b65059",
            "f748b6657cf1430b8011cfb0389d06ae"
          ]
        },
        "id": "T6xkNldU2aNs",
        "outputId": "cdadb231-f1eb-41bd-fa74-3290b32f54cc"
      },
      "outputs": [
        {
          "data": {
            "application/vnd.jupyter.widget-view+json": {
              "model_id": "13f228378b81405598aa4072b4530099",
              "version_major": 2,
              "version_minor": 0
            },
            "text/plain": [
              "  0%|          | 0/181 [00:00<?, ?it/s]"
            ]
          },
          "metadata": {},
          "output_type": "display_data"
        }
      ],
      "source": [
        "# when recomposed sentences were saved the \\n was missed\n",
        "# hence the recomposed sentences files have been split according to the original sentence lengths\n",
        "loop = tqdm(glob.glob(\"assignment-2/cleaned-data/*.txt\"))\n",
        "for filename in loop:\n",
        "    with open(filename, \"r\") as f:\n",
        "        text = f.readlines()\n",
        "    with open(\n",
        "        os.path.join(\"assignment-2\", \"pos-tagged-data\", os.path.basename(filename)), \"r\"\n",
        "    ) as f:\n",
        "        tagged_text = f.read().split()\n",
        "    sentence_lengths = [len(line.split(\" \")) for line in text]\n",
        "    start = 0\n",
        "    with open(\n",
        "        os.path.join(\"assignment-2\", \"pos-tagged-data\", os.path.basename(filename)), \"w\"\n",
        "    ) as f:\n",
        "        for i, sent_len in enumerate(sentence_lengths):\n",
        "            f.write(\" \".join(fulltext[start : start + sent_len]) + \"\\n\")\n",
        "            start = sent_len\n",
        "        f.close()"
      ]
    },
    {
      "cell_type": "code",
      "execution_count": null,
      "metadata": {
        "colab": {
          "base_uri": "https://localhost:8080/",
          "height": 49,
          "referenced_widgets": [
            "bfb1271828e144e382f4ff4e6914de50",
            "6da8f11945dd41528d1d5dfc65e6609e",
            "f6b2d552c84c452ab761553b13f62314",
            "d2734c389c05404082ae03258d4608e1",
            "e3b73d73700a4f28ac535c4cdb007010",
            "29f2cf20aa7d4ac6909b6510f5df75bd",
            "289a63ba8f4e4cb3b4f8e17a879a6bc8",
            "ace7813266ff4f7db2dac2b7f8ca2dad",
            "7c873ba961d4428490d156554844ca52",
            "bfefdc7bb2584e6895dbc3f3a03a5713",
            "1e303830c1b44f3ba5313a59a00921e8"
          ]
        },
        "id": "IaVx7S8R5Xh3",
        "outputId": "cbe28953-0a4a-434a-b45e-187acbb0fb28"
      },
      "outputs": [
        {
          "data": {
            "application/vnd.jupyter.widget-view+json": {
              "model_id": "bfb1271828e144e382f4ff4e6914de50",
              "version_major": 2,
              "version_minor": 0
            },
            "text/plain": [
              "  0%|          | 0/181 [00:00<?, ?file/s]"
            ]
          },
          "metadata": {},
          "output_type": "display_data"
        }
      ],
      "source": [
        "loop = tqdm(glob.glob(\"assignment-2/pos-tagged-data/*.txt\"), position=0, unit=\"file\")\n",
        "total_counter = Counter()\n",
        "for filename in loop:\n",
        "    loop.set_description_str(f\"File: {os.path.basename(filename)}\")\n",
        "    with open(filename, \"r\") as f:\n",
        "        text = f.readlines()\n",
        "    total_counter += Counter(text)"
      ]
    },
    {
      "cell_type": "markdown",
      "metadata": {
        "id": "fMophh3gBHSu"
      },
      "source": [
        "### Total number of patterns\n"
      ]
    },
    {
      "cell_type": "code",
      "execution_count": null,
      "metadata": {
        "colab": {
          "base_uri": "https://localhost:8080/"
        },
        "id": "ybloVPWeBF1t",
        "outputId": "8051a83e-447d-434e-fd72-22f4a98c4dad"
      },
      "outputs": [
        {
          "name": "stdout",
          "output_type": "stream",
          "text": [
            "8775\n"
          ]
        }
      ],
      "source": [
        "print(len(total_counter.keys()))"
      ]
    },
    {
      "cell_type": "markdown",
      "metadata": {
        "id": "eBAYKEaHQSCz"
      },
      "source": [
        "So there are 8775 unique POS structures\n"
      ]
    },
    {
      "cell_type": "markdown",
      "metadata": {
        "id": "V57JhbB9Qjde"
      },
      "source": [
        "## 3. Most common POS structures\n"
      ]
    },
    {
      "cell_type": "code",
      "execution_count": null,
      "metadata": {
        "colab": {
          "base_uri": "https://localhost:8080/"
        },
        "id": "1r2tUUYx9I_O",
        "outputId": "270ae139-8eda-4d2a-fb5a-56e578fbaaca"
      },
      "outputs": [
        {
          "data": {
            "text/plain": [
              "[('IN NNDT VBD DT JJ JJ NN IN DT NN NNDT\\n', 69696),\n",
              " ('NNDT VBD DT JJ JJ NN IN DT NN NNDT VBD DT\\n', 64377),\n",
              " ('NN NN IN NNDT VBD DT JJ JJ NN\\n', 53000),\n",
              " ('VBD DT JJ JJ NN IN DT NN NNDT VBD DT JJ JJ\\n', 50016),\n",
              " ('JJ JJ NN IN DT NN NNDT VBD DT JJ JJ NN IN DT NN\\n', 46728)]"
            ]
          },
          "execution_count": 51,
          "metadata": {},
          "output_type": "execute_result"
        }
      ],
      "source": [
        "total_counter.most_common(5)"
      ]
    },
    {
      "cell_type": "code",
      "execution_count": null,
      "metadata": {
        "id": "NKjWzC4dTpSW"
      },
      "outputs": [],
      "source": [
        "# Saving the POS frequency count\n",
        "with open(\"assignment-2/pos-counts.pkl\", \"wb\") as f:\n",
        "    pickle.dump(total_counter, f)"
      ]
    },
    {
      "cell_type": "markdown",
      "metadata": {
        "id": "mvKlWrpGR7ms"
      },
      "source": [
        "# Part 3\n"
      ]
    },
    {
      "cell_type": "markdown",
      "metadata": {
        "id": "b6sBAeD-xzZ7"
      },
      "source": [
        "## Generate 5 sentences corresponding to each of the most common structures for 5 different starting words\n"
      ]
    },
    {
      "cell_type": "code",
      "execution_count": null,
      "metadata": {
        "id": "Ih7OtObxZ00P"
      },
      "outputs": [],
      "source": [
        "from nltk.corpus import brown, treebank"
      ]
    },
    {
      "cell_type": "markdown",
      "metadata": {
        "id": "JjMghQ3NmbuV"
      },
      "source": [
        "First we got a mapper of what words correspond to what POS tags\n"
      ]
    },
    {
      "cell_type": "code",
      "execution_count": null,
      "metadata": {
        "colab": {
          "base_uri": "https://localhost:8080/",
          "height": 49,
          "referenced_widgets": [
            "42eea4880f534615b9a047153af17e3e",
            "4c3a838f63044a42819dd58f66a4dcfd",
            "3ab3e3848e0f49bf8d82df173debcb53",
            "c0da0f3a6ed74fbd8f0222f280fa7801",
            "30d25381fb4b4a51a5e11fca72207100",
            "8449e23093554413af7fab799fce286d",
            "7c5739120c12486f9979f54dfa437e30",
            "a14ed32da5354acfa027393ca50e7c13",
            "0a486b97a1f749cf8cb7f10b23608d16",
            "16d7545d463542f59800058904382ed9",
            "4e6c1cc85cc64aa8b0f5432bb625475f"
          ]
        },
        "id": "MRzSbs6-k-Cw",
        "outputId": "18c0d8e9-e4e6-49e8-ed93-7ebdca3d1549"
      },
      "outputs": [
        {
          "data": {
            "application/vnd.jupyter.widget-view+json": {
              "model_id": "42eea4880f534615b9a047153af17e3e",
              "version_major": 2,
              "version_minor": 0
            },
            "text/plain": [
              "  0%|          | 0/3914 [00:00<?, ? sentence/s]"
            ]
          },
          "metadata": {},
          "output_type": "display_data"
        }
      ],
      "source": [
        "tagged_sentences = treebank.tagged_sents()\n",
        "pos_word_map = defaultdict(list)\n",
        "loop = tqdm(tagged_sentences, unit=\" sentence\")\n",
        "for sentence in loop:\n",
        "    for word, pos in sentence:\n",
        "        pos_word_map[pos].append(word)"
      ]
    },
    {
      "cell_type": "markdown",
      "metadata": {
        "id": "lHOqjQCW5BrF"
      },
      "source": [
        "Some tags as provided by the perceptron tagger may be different in name from the ones provided by the penn treebank tagset. Hence we need to map some tags to appropriate ones in the treebank tagset.\n"
      ]
    },
    {
      "cell_type": "code",
      "execution_count": null,
      "metadata": {
        "id": "FOBA9-Ro46dN"
      },
      "outputs": [],
      "source": [
        "unique_tags = []\n",
        "for _ in list(map(str.split, list(total_counter.keys()))):\n",
        "    unique_tags.extend(_)\n",
        "tag_mapper = {_: _ for _ in set(unique_tags)}\n",
        "tag_mapper[\"INDT\"] = \"IN\"\n",
        "tag_mapper[\"JJDT\"] = \"JJ\"\n",
        "tag_mapper.update(\n",
        "    {\n",
        "        \"INDT\": \"IN\",\n",
        "        \"JJDT\": \"JJ\",\n",
        "        \"NN\": \"NN\",\n",
        "        \"NNDT\": \"NN\",\n",
        "        \"NNNN\": \"NN\",\n",
        "        \"NNS\": \"NNS\",\n",
        "        \"NNSDT\": \"NNS\",\n",
        "        \"VBNDT\": \"VBN\",\n",
        "    }\n",
        ")"
      ]
    },
    {
      "cell_type": "code",
      "execution_count": null,
      "metadata": {
        "id": "qcxost5gpQ60"
      },
      "outputs": [],
      "source": [
        "# given a pos tag, generate a word based on the probability distribution of words\n",
        "def generate_word_by_pos(tag, mapper):\n",
        "    possible_words = mapper.get(tag_mapper[tag], [])\n",
        "    if possible_words:\n",
        "        total_count = len(possible_words)\n",
        "        prob = defaultdict(float)\n",
        "        for word in possible_words:\n",
        "            prob[word] += 1.0\n",
        "        prob = {word: freq / total_count for word, freq in prob.items()}\n",
        "        return np.random.choice(list(prob.keys()), p=list(prob.values()))\n",
        "\n",
        "\n",
        "def generate_sentence_by_pos(tags, mapper):\n",
        "    sentence = \" \".join([generate_word_by_pos(tag, mapper) for tag in tags])\n",
        "    return sentence"
      ]
    },
    {
      "cell_type": "code",
      "execution_count": null,
      "metadata": {
        "id": "VKO9PzPMqhZv"
      },
      "outputs": [],
      "source": [
        "common_pos_structures = [structure for structure, _ in total_counter.most_common(5)]\n",
        "starting_words = [\"hello\", \"everyone\", \"america\", \"football\", \"chess\"]"
      ]
    },
    {
      "cell_type": "markdown",
      "metadata": {
        "id": "nNYK2lXfxwOZ"
      },
      "source": [
        "### Sentences with just POS tags\n"
      ]
    },
    {
      "cell_type": "code",
      "execution_count": null,
      "metadata": {
        "colab": {
          "base_uri": "https://localhost:8080/"
        },
        "id": "MsirTFQJwyL5",
        "outputId": "96ec426f-2602-41e6-e6e0-998cfa269d9e"
      },
      "outputs": [
        {
          "name": "stdout",
          "output_type": "stream",
          "text": [
            "Starting word: hello\n",
            "\n",
            "(1) hello IN NNDT VBD DT JJ JJ NN IN DT NN NNDT\n",
            "(2) hello NNDT VBD DT JJ JJ NN IN DT NN NNDT VBD DT\n",
            "(3) hello NN NN IN NNDT VBD DT JJ JJ NN\n",
            "(4) hello VBD DT JJ JJ NN IN DT NN NNDT VBD DT JJ JJ\n",
            "(5) hello JJ JJ NN IN DT NN NNDT VBD DT JJ JJ NN IN DT NN\n",
            "==========================================================\n",
            "\n",
            "Starting word: everyone\n",
            "\n",
            "(1) everyone IN NNDT VBD DT JJ JJ NN IN DT NN NNDT\n",
            "(2) everyone NNDT VBD DT JJ JJ NN IN DT NN NNDT VBD DT\n",
            "(3) everyone NN NN IN NNDT VBD DT JJ JJ NN\n",
            "(4) everyone VBD DT JJ JJ NN IN DT NN NNDT VBD DT JJ JJ\n",
            "(5) everyone JJ JJ NN IN DT NN NNDT VBD DT JJ JJ NN IN DT NN\n",
            "==========================================================\n",
            "\n",
            "Starting word: america\n",
            "\n",
            "(1) america IN NNDT VBD DT JJ JJ NN IN DT NN NNDT\n",
            "(2) america NNDT VBD DT JJ JJ NN IN DT NN NNDT VBD DT\n",
            "(3) america NN NN IN NNDT VBD DT JJ JJ NN\n",
            "(4) america VBD DT JJ JJ NN IN DT NN NNDT VBD DT JJ JJ\n",
            "(5) america JJ JJ NN IN DT NN NNDT VBD DT JJ JJ NN IN DT NN\n",
            "==========================================================\n",
            "\n",
            "Starting word: football\n",
            "\n",
            "(1) football IN NNDT VBD DT JJ JJ NN IN DT NN NNDT\n",
            "(2) football NNDT VBD DT JJ JJ NN IN DT NN NNDT VBD DT\n",
            "(3) football NN NN IN NNDT VBD DT JJ JJ NN\n",
            "(4) football VBD DT JJ JJ NN IN DT NN NNDT VBD DT JJ JJ\n",
            "(5) football JJ JJ NN IN DT NN NNDT VBD DT JJ JJ NN IN DT NN\n",
            "==========================================================\n",
            "\n",
            "Starting word: chess\n",
            "\n",
            "(1) chess IN NNDT VBD DT JJ JJ NN IN DT NN NNDT\n",
            "(2) chess NNDT VBD DT JJ JJ NN IN DT NN NNDT VBD DT\n",
            "(3) chess NN NN IN NNDT VBD DT JJ JJ NN\n",
            "(4) chess VBD DT JJ JJ NN IN DT NN NNDT VBD DT JJ JJ\n",
            "(5) chess JJ JJ NN IN DT NN NNDT VBD DT JJ JJ NN IN DT NN\n",
            "==========================================================\n",
            "\n"
          ]
        }
      ],
      "source": [
        "for start_word in starting_words:\n",
        "    print(f\"Starting word: {start_word}\\n\")\n",
        "    for i, pos_structure in enumerate(common_pos_structures):\n",
        "        print(f\"({i+1}) {start_word} {pos_structure}\", end=\"\")\n",
        "    print(\"==========================================================\\n\")"
      ]
    },
    {
      "cell_type": "markdown",
      "metadata": {
        "id": "Yy4E2gGZy5xl"
      },
      "source": [
        "### Sentences with words in place of POS tags\n"
      ]
    },
    {
      "cell_type": "code",
      "execution_count": null,
      "metadata": {
        "colab": {
          "base_uri": "https://localhost:8080/"
        },
        "id": "JPQ2TVSDynNl",
        "outputId": "6d3e0475-9de1-4b99-baa0-fcecc7f8a302"
      },
      "outputs": [
        {
          "name": "stdout",
          "output_type": "stream",
          "text": [
            "Starting word: hello\n",
            "\n",
            "(1) hello in repayment had the satisfactory low-ball director of that application takeover\n",
            "(2) hello watch remarked the front last year of the rest market said the\n",
            "(3) hello cardboard language by racket boosted the such line-item assurance\n",
            "(4) hello said The composite new compensation on a fee group did the great available\n",
            "(5) hello second-largest compelling number for the session pit were a skeptical drunk contract If the quarter\n",
            "========================================================================================================================\n",
            "\n",
            "Starting word: everyone\n",
            "\n",
            "(1) everyone for referendum said the top economic sort of the research death\n",
            "(2) everyone markdown fell the inoperative big article In an time survey said the\n",
            "(3) everyone project plan by merger returned the recent privileged speech\n",
            "(4) everyone said the % mental trading in the test eye was a 100-share battery-operated\n",
            "(5) everyone big due office of a name third-quarter said the relative willing lead for the equity\n",
            "========================================================================================================================\n",
            "\n",
            "Starting word: america\n",
            "\n",
            "(1) america in % was the Other intricate band by The story videocassette\n",
            "(2) america year advanced the general Many skill In the crunch contract took the\n",
            "(3) america dividend bidder with night was a unusual such city\n",
            "(4) america was a expensive vicious profitability if the TV Factory ruled half last to\n",
            "(5) america first ill disclosure out the analyst attempt secured the timely startling summer that the issue\n",
            "========================================================================================================================\n",
            "\n",
            "Starting word: football\n",
            "\n",
            "(1) football from fine reported a mental particular field as the treatment controversy\n",
            "(2) football Survey was this hardest-hit last survey in the dam pet decided the\n",
            "(3) football bank climate of idea said the last second thing\n",
            "(4) football traveled The poor asset-sale capacity over the manager management was the foreign brutal\n",
            "(5) football good security-type paper of the fact obsession said the first national period with a castle\n",
            "========================================================================================================================\n",
            "\n",
            "Starting word: chess\n",
            "\n",
            "(1) chess for Uncertainty appeared the dry interesting penalty for the service reading\n",
            "(2) chess investor decided a much erudite investment at The debt month rose a\n",
            "(3) chess chairman version than month hosted no outrageous political hay\n",
            "(4) chess reported a international one-time blood in this director highway included the true annual\n",
            "(5) chess local political product during all editorial dam were an breathtaking London-based homelessness in the time\n",
            "========================================================================================================================\n",
            "\n"
          ]
        }
      ],
      "source": [
        "for start_word in starting_words:\n",
        "    print(f\"Starting word: {start_word}\\n\")\n",
        "    for i, pos_structure in enumerate(common_pos_structures):\n",
        "        sentence = generate_sentence_by_pos(pos_structure[:-1].split(\" \"), pos_word_map)\n",
        "        print(f\"({i+1}) {start_word} {sentence}\")\n",
        "    print(\"=\" * 120 + \"\\n\")"
      ]
    }
  ],
  "metadata": {
    "colab": {
      "provenance": []
    },
    "kernelspec": {
      "display_name": "Python 3",
      "name": "python3"
    },
    "language_info": {
      "name": "python",
      "version": "3.11.6"
    },
    "widgets": {
      "application/vnd.jupyter.widget-state+json": {
        "0a486b97a1f749cf8cb7f10b23608d16": {
          "model_module": "@jupyter-widgets/controls",
          "model_module_version": "1.5.0",
          "model_name": "ProgressStyleModel",
          "state": {
            "_model_module": "@jupyter-widgets/controls",
            "_model_module_version": "1.5.0",
            "_model_name": "ProgressStyleModel",
            "_view_count": null,
            "_view_module": "@jupyter-widgets/base",
            "_view_module_version": "1.2.0",
            "_view_name": "StyleView",
            "bar_color": null,
            "description_width": ""
          }
        },
        "0d23dc3e9bdd4b3cb337178206b65059": {
          "model_module": "@jupyter-widgets/base",
          "model_module_version": "1.2.0",
          "model_name": "LayoutModel",
          "state": {
            "_model_module": "@jupyter-widgets/base",
            "_model_module_version": "1.2.0",
            "_model_name": "LayoutModel",
            "_view_count": null,
            "_view_module": "@jupyter-widgets/base",
            "_view_module_version": "1.2.0",
            "_view_name": "LayoutView",
            "align_content": null,
            "align_items": null,
            "align_self": null,
            "border": null,
            "bottom": null,
            "display": null,
            "flex": null,
            "flex_flow": null,
            "grid_area": null,
            "grid_auto_columns": null,
            "grid_auto_flow": null,
            "grid_auto_rows": null,
            "grid_column": null,
            "grid_gap": null,
            "grid_row": null,
            "grid_template_areas": null,
            "grid_template_columns": null,
            "grid_template_rows": null,
            "height": null,
            "justify_content": null,
            "justify_items": null,
            "left": null,
            "margin": null,
            "max_height": null,
            "max_width": null,
            "min_height": null,
            "min_width": null,
            "object_fit": null,
            "object_position": null,
            "order": null,
            "overflow": null,
            "overflow_x": null,
            "overflow_y": null,
            "padding": null,
            "right": null,
            "top": null,
            "visibility": null,
            "width": null
          }
        },
        "13f228378b81405598aa4072b4530099": {
          "model_module": "@jupyter-widgets/controls",
          "model_module_version": "1.5.0",
          "model_name": "HBoxModel",
          "state": {
            "_dom_classes": [],
            "_model_module": "@jupyter-widgets/controls",
            "_model_module_version": "1.5.0",
            "_model_name": "HBoxModel",
            "_view_count": null,
            "_view_module": "@jupyter-widgets/controls",
            "_view_module_version": "1.5.0",
            "_view_name": "HBoxView",
            "box_style": "",
            "children": [
              "IPY_MODEL_53d7518a0e744ada83c25921eb95a40f",
              "IPY_MODEL_933b0d37e52b4c2c919519f2c6502bea",
              "IPY_MODEL_734729d7538c424aa62583b0e4b67ec0"
            ],
            "layout": "IPY_MODEL_b139b7d375874cfbad98b62863394259"
          }
        },
        "16d7545d463542f59800058904382ed9": {
          "model_module": "@jupyter-widgets/base",
          "model_module_version": "1.2.0",
          "model_name": "LayoutModel",
          "state": {
            "_model_module": "@jupyter-widgets/base",
            "_model_module_version": "1.2.0",
            "_model_name": "LayoutModel",
            "_view_count": null,
            "_view_module": "@jupyter-widgets/base",
            "_view_module_version": "1.2.0",
            "_view_name": "LayoutView",
            "align_content": null,
            "align_items": null,
            "align_self": null,
            "border": null,
            "bottom": null,
            "display": null,
            "flex": null,
            "flex_flow": null,
            "grid_area": null,
            "grid_auto_columns": null,
            "grid_auto_flow": null,
            "grid_auto_rows": null,
            "grid_column": null,
            "grid_gap": null,
            "grid_row": null,
            "grid_template_areas": null,
            "grid_template_columns": null,
            "grid_template_rows": null,
            "height": null,
            "justify_content": null,
            "justify_items": null,
            "left": null,
            "margin": null,
            "max_height": null,
            "max_width": null,
            "min_height": null,
            "min_width": null,
            "object_fit": null,
            "object_position": null,
            "order": null,
            "overflow": null,
            "overflow_x": null,
            "overflow_y": null,
            "padding": null,
            "right": null,
            "top": null,
            "visibility": null,
            "width": null
          }
        },
        "1e303830c1b44f3ba5313a59a00921e8": {
          "model_module": "@jupyter-widgets/controls",
          "model_module_version": "1.5.0",
          "model_name": "DescriptionStyleModel",
          "state": {
            "_model_module": "@jupyter-widgets/controls",
            "_model_module_version": "1.5.0",
            "_model_name": "DescriptionStyleModel",
            "_view_count": null,
            "_view_module": "@jupyter-widgets/base",
            "_view_module_version": "1.2.0",
            "_view_name": "StyleView",
            "description_width": ""
          }
        },
        "229b3aba14294977a6cd344356820343": {
          "model_module": "@jupyter-widgets/controls",
          "model_module_version": "1.5.0",
          "model_name": "ProgressStyleModel",
          "state": {
            "_model_module": "@jupyter-widgets/controls",
            "_model_module_version": "1.5.0",
            "_model_name": "ProgressStyleModel",
            "_view_count": null,
            "_view_module": "@jupyter-widgets/base",
            "_view_module_version": "1.2.0",
            "_view_name": "StyleView",
            "bar_color": null,
            "description_width": ""
          }
        },
        "289a63ba8f4e4cb3b4f8e17a879a6bc8": {
          "model_module": "@jupyter-widgets/controls",
          "model_module_version": "1.5.0",
          "model_name": "DescriptionStyleModel",
          "state": {
            "_model_module": "@jupyter-widgets/controls",
            "_model_module_version": "1.5.0",
            "_model_name": "DescriptionStyleModel",
            "_view_count": null,
            "_view_module": "@jupyter-widgets/base",
            "_view_module_version": "1.2.0",
            "_view_name": "StyleView",
            "description_width": ""
          }
        },
        "29f2cf20aa7d4ac6909b6510f5df75bd": {
          "model_module": "@jupyter-widgets/base",
          "model_module_version": "1.2.0",
          "model_name": "LayoutModel",
          "state": {
            "_model_module": "@jupyter-widgets/base",
            "_model_module_version": "1.2.0",
            "_model_name": "LayoutModel",
            "_view_count": null,
            "_view_module": "@jupyter-widgets/base",
            "_view_module_version": "1.2.0",
            "_view_name": "LayoutView",
            "align_content": null,
            "align_items": null,
            "align_self": null,
            "border": null,
            "bottom": null,
            "display": null,
            "flex": null,
            "flex_flow": null,
            "grid_area": null,
            "grid_auto_columns": null,
            "grid_auto_flow": null,
            "grid_auto_rows": null,
            "grid_column": null,
            "grid_gap": null,
            "grid_row": null,
            "grid_template_areas": null,
            "grid_template_columns": null,
            "grid_template_rows": null,
            "height": null,
            "justify_content": null,
            "justify_items": null,
            "left": null,
            "margin": null,
            "max_height": null,
            "max_width": null,
            "min_height": null,
            "min_width": null,
            "object_fit": null,
            "object_position": null,
            "order": null,
            "overflow": null,
            "overflow_x": null,
            "overflow_y": null,
            "padding": null,
            "right": null,
            "top": null,
            "visibility": null,
            "width": null
          }
        },
        "30d25381fb4b4a51a5e11fca72207100": {
          "model_module": "@jupyter-widgets/base",
          "model_module_version": "1.2.0",
          "model_name": "LayoutModel",
          "state": {
            "_model_module": "@jupyter-widgets/base",
            "_model_module_version": "1.2.0",
            "_model_name": "LayoutModel",
            "_view_count": null,
            "_view_module": "@jupyter-widgets/base",
            "_view_module_version": "1.2.0",
            "_view_name": "LayoutView",
            "align_content": null,
            "align_items": null,
            "align_self": null,
            "border": null,
            "bottom": null,
            "display": null,
            "flex": null,
            "flex_flow": null,
            "grid_area": null,
            "grid_auto_columns": null,
            "grid_auto_flow": null,
            "grid_auto_rows": null,
            "grid_column": null,
            "grid_gap": null,
            "grid_row": null,
            "grid_template_areas": null,
            "grid_template_columns": null,
            "grid_template_rows": null,
            "height": null,
            "justify_content": null,
            "justify_items": null,
            "left": null,
            "margin": null,
            "max_height": null,
            "max_width": null,
            "min_height": null,
            "min_width": null,
            "object_fit": null,
            "object_position": null,
            "order": null,
            "overflow": null,
            "overflow_x": null,
            "overflow_y": null,
            "padding": null,
            "right": null,
            "top": null,
            "visibility": null,
            "width": null
          }
        },
        "3ab3e3848e0f49bf8d82df173debcb53": {
          "model_module": "@jupyter-widgets/controls",
          "model_module_version": "1.5.0",
          "model_name": "FloatProgressModel",
          "state": {
            "_dom_classes": [],
            "_model_module": "@jupyter-widgets/controls",
            "_model_module_version": "1.5.0",
            "_model_name": "FloatProgressModel",
            "_view_count": null,
            "_view_module": "@jupyter-widgets/controls",
            "_view_module_version": "1.5.0",
            "_view_name": "ProgressView",
            "bar_style": "success",
            "description": "",
            "description_tooltip": null,
            "layout": "IPY_MODEL_a14ed32da5354acfa027393ca50e7c13",
            "max": 3914,
            "min": 0,
            "orientation": "horizontal",
            "style": "IPY_MODEL_0a486b97a1f749cf8cb7f10b23608d16",
            "value": 3914
          }
        },
        "42eea4880f534615b9a047153af17e3e": {
          "model_module": "@jupyter-widgets/controls",
          "model_module_version": "1.5.0",
          "model_name": "HBoxModel",
          "state": {
            "_dom_classes": [],
            "_model_module": "@jupyter-widgets/controls",
            "_model_module_version": "1.5.0",
            "_model_name": "HBoxModel",
            "_view_count": null,
            "_view_module": "@jupyter-widgets/controls",
            "_view_module_version": "1.5.0",
            "_view_name": "HBoxView",
            "box_style": "",
            "children": [
              "IPY_MODEL_4c3a838f63044a42819dd58f66a4dcfd",
              "IPY_MODEL_3ab3e3848e0f49bf8d82df173debcb53",
              "IPY_MODEL_c0da0f3a6ed74fbd8f0222f280fa7801"
            ],
            "layout": "IPY_MODEL_30d25381fb4b4a51a5e11fca72207100"
          }
        },
        "4c3a838f63044a42819dd58f66a4dcfd": {
          "model_module": "@jupyter-widgets/controls",
          "model_module_version": "1.5.0",
          "model_name": "HTMLModel",
          "state": {
            "_dom_classes": [],
            "_model_module": "@jupyter-widgets/controls",
            "_model_module_version": "1.5.0",
            "_model_name": "HTMLModel",
            "_view_count": null,
            "_view_module": "@jupyter-widgets/controls",
            "_view_module_version": "1.5.0",
            "_view_name": "HTMLView",
            "description": "",
            "description_tooltip": null,
            "layout": "IPY_MODEL_8449e23093554413af7fab799fce286d",
            "placeholder": "​",
            "style": "IPY_MODEL_7c5739120c12486f9979f54dfa437e30",
            "value": "100%"
          }
        },
        "4e6c1cc85cc64aa8b0f5432bb625475f": {
          "model_module": "@jupyter-widgets/controls",
          "model_module_version": "1.5.0",
          "model_name": "DescriptionStyleModel",
          "state": {
            "_model_module": "@jupyter-widgets/controls",
            "_model_module_version": "1.5.0",
            "_model_name": "DescriptionStyleModel",
            "_view_count": null,
            "_view_module": "@jupyter-widgets/base",
            "_view_module_version": "1.2.0",
            "_view_name": "StyleView",
            "description_width": ""
          }
        },
        "53d7518a0e744ada83c25921eb95a40f": {
          "model_module": "@jupyter-widgets/controls",
          "model_module_version": "1.5.0",
          "model_name": "HTMLModel",
          "state": {
            "_dom_classes": [],
            "_model_module": "@jupyter-widgets/controls",
            "_model_module_version": "1.5.0",
            "_model_name": "HTMLModel",
            "_view_count": null,
            "_view_module": "@jupyter-widgets/controls",
            "_view_module_version": "1.5.0",
            "_view_name": "HTMLView",
            "description": "",
            "description_tooltip": null,
            "layout": "IPY_MODEL_d95bb3f8ee2149b397d4044b35c64ef8",
            "placeholder": "​",
            "style": "IPY_MODEL_55928d0ae011430eba819b04903d1a50",
            "value": "100%"
          }
        },
        "55928d0ae011430eba819b04903d1a50": {
          "model_module": "@jupyter-widgets/controls",
          "model_module_version": "1.5.0",
          "model_name": "DescriptionStyleModel",
          "state": {
            "_model_module": "@jupyter-widgets/controls",
            "_model_module_version": "1.5.0",
            "_model_name": "DescriptionStyleModel",
            "_view_count": null,
            "_view_module": "@jupyter-widgets/base",
            "_view_module_version": "1.2.0",
            "_view_name": "StyleView",
            "description_width": ""
          }
        },
        "6da8f11945dd41528d1d5dfc65e6609e": {
          "model_module": "@jupyter-widgets/controls",
          "model_module_version": "1.5.0",
          "model_name": "HTMLModel",
          "state": {
            "_dom_classes": [],
            "_model_module": "@jupyter-widgets/controls",
            "_model_module_version": "1.5.0",
            "_model_name": "HTMLModel",
            "_view_count": null,
            "_view_module": "@jupyter-widgets/controls",
            "_view_module_version": "1.5.0",
            "_view_name": "HTMLView",
            "description": "",
            "description_tooltip": null,
            "layout": "IPY_MODEL_29f2cf20aa7d4ac6909b6510f5df75bd",
            "placeholder": "​",
            "style": "IPY_MODEL_289a63ba8f4e4cb3b4f8e17a879a6bc8",
            "value": "File: english-107.txt: 100%"
          }
        },
        "734729d7538c424aa62583b0e4b67ec0": {
          "model_module": "@jupyter-widgets/controls",
          "model_module_version": "1.5.0",
          "model_name": "HTMLModel",
          "state": {
            "_dom_classes": [],
            "_model_module": "@jupyter-widgets/controls",
            "_model_module_version": "1.5.0",
            "_model_name": "HTMLModel",
            "_view_count": null,
            "_view_module": "@jupyter-widgets/controls",
            "_view_module_version": "1.5.0",
            "_view_name": "HTMLView",
            "description": "",
            "description_tooltip": null,
            "layout": "IPY_MODEL_0d23dc3e9bdd4b3cb337178206b65059",
            "placeholder": "​",
            "style": "IPY_MODEL_f748b6657cf1430b8011cfb0389d06ae",
            "value": " 181/181 [00:52&lt;00:00,  4.76it/s]"
          }
        },
        "7c5739120c12486f9979f54dfa437e30": {
          "model_module": "@jupyter-widgets/controls",
          "model_module_version": "1.5.0",
          "model_name": "DescriptionStyleModel",
          "state": {
            "_model_module": "@jupyter-widgets/controls",
            "_model_module_version": "1.5.0",
            "_model_name": "DescriptionStyleModel",
            "_view_count": null,
            "_view_module": "@jupyter-widgets/base",
            "_view_module_version": "1.2.0",
            "_view_name": "StyleView",
            "description_width": ""
          }
        },
        "7c873ba961d4428490d156554844ca52": {
          "model_module": "@jupyter-widgets/controls",
          "model_module_version": "1.5.0",
          "model_name": "ProgressStyleModel",
          "state": {
            "_model_module": "@jupyter-widgets/controls",
            "_model_module_version": "1.5.0",
            "_model_name": "ProgressStyleModel",
            "_view_count": null,
            "_view_module": "@jupyter-widgets/base",
            "_view_module_version": "1.2.0",
            "_view_name": "StyleView",
            "bar_color": null,
            "description_width": ""
          }
        },
        "7e889c74c5d640b58c2a2f574217f3f4": {
          "model_module": "@jupyter-widgets/base",
          "model_module_version": "1.2.0",
          "model_name": "LayoutModel",
          "state": {
            "_model_module": "@jupyter-widgets/base",
            "_model_module_version": "1.2.0",
            "_model_name": "LayoutModel",
            "_view_count": null,
            "_view_module": "@jupyter-widgets/base",
            "_view_module_version": "1.2.0",
            "_view_name": "LayoutView",
            "align_content": null,
            "align_items": null,
            "align_self": null,
            "border": null,
            "bottom": null,
            "display": null,
            "flex": null,
            "flex_flow": null,
            "grid_area": null,
            "grid_auto_columns": null,
            "grid_auto_flow": null,
            "grid_auto_rows": null,
            "grid_column": null,
            "grid_gap": null,
            "grid_row": null,
            "grid_template_areas": null,
            "grid_template_columns": null,
            "grid_template_rows": null,
            "height": null,
            "justify_content": null,
            "justify_items": null,
            "left": null,
            "margin": null,
            "max_height": null,
            "max_width": null,
            "min_height": null,
            "min_width": null,
            "object_fit": null,
            "object_position": null,
            "order": null,
            "overflow": null,
            "overflow_x": null,
            "overflow_y": null,
            "padding": null,
            "right": null,
            "top": null,
            "visibility": null,
            "width": null
          }
        },
        "8449e23093554413af7fab799fce286d": {
          "model_module": "@jupyter-widgets/base",
          "model_module_version": "1.2.0",
          "model_name": "LayoutModel",
          "state": {
            "_model_module": "@jupyter-widgets/base",
            "_model_module_version": "1.2.0",
            "_model_name": "LayoutModel",
            "_view_count": null,
            "_view_module": "@jupyter-widgets/base",
            "_view_module_version": "1.2.0",
            "_view_name": "LayoutView",
            "align_content": null,
            "align_items": null,
            "align_self": null,
            "border": null,
            "bottom": null,
            "display": null,
            "flex": null,
            "flex_flow": null,
            "grid_area": null,
            "grid_auto_columns": null,
            "grid_auto_flow": null,
            "grid_auto_rows": null,
            "grid_column": null,
            "grid_gap": null,
            "grid_row": null,
            "grid_template_areas": null,
            "grid_template_columns": null,
            "grid_template_rows": null,
            "height": null,
            "justify_content": null,
            "justify_items": null,
            "left": null,
            "margin": null,
            "max_height": null,
            "max_width": null,
            "min_height": null,
            "min_width": null,
            "object_fit": null,
            "object_position": null,
            "order": null,
            "overflow": null,
            "overflow_x": null,
            "overflow_y": null,
            "padding": null,
            "right": null,
            "top": null,
            "visibility": null,
            "width": null
          }
        },
        "933b0d37e52b4c2c919519f2c6502bea": {
          "model_module": "@jupyter-widgets/controls",
          "model_module_version": "1.5.0",
          "model_name": "FloatProgressModel",
          "state": {
            "_dom_classes": [],
            "_model_module": "@jupyter-widgets/controls",
            "_model_module_version": "1.5.0",
            "_model_name": "FloatProgressModel",
            "_view_count": null,
            "_view_module": "@jupyter-widgets/controls",
            "_view_module_version": "1.5.0",
            "_view_name": "ProgressView",
            "bar_style": "success",
            "description": "",
            "description_tooltip": null,
            "layout": "IPY_MODEL_7e889c74c5d640b58c2a2f574217f3f4",
            "max": 181,
            "min": 0,
            "orientation": "horizontal",
            "style": "IPY_MODEL_229b3aba14294977a6cd344356820343",
            "value": 181
          }
        },
        "a14ed32da5354acfa027393ca50e7c13": {
          "model_module": "@jupyter-widgets/base",
          "model_module_version": "1.2.0",
          "model_name": "LayoutModel",
          "state": {
            "_model_module": "@jupyter-widgets/base",
            "_model_module_version": "1.2.0",
            "_model_name": "LayoutModel",
            "_view_count": null,
            "_view_module": "@jupyter-widgets/base",
            "_view_module_version": "1.2.0",
            "_view_name": "LayoutView",
            "align_content": null,
            "align_items": null,
            "align_self": null,
            "border": null,
            "bottom": null,
            "display": null,
            "flex": null,
            "flex_flow": null,
            "grid_area": null,
            "grid_auto_columns": null,
            "grid_auto_flow": null,
            "grid_auto_rows": null,
            "grid_column": null,
            "grid_gap": null,
            "grid_row": null,
            "grid_template_areas": null,
            "grid_template_columns": null,
            "grid_template_rows": null,
            "height": null,
            "justify_content": null,
            "justify_items": null,
            "left": null,
            "margin": null,
            "max_height": null,
            "max_width": null,
            "min_height": null,
            "min_width": null,
            "object_fit": null,
            "object_position": null,
            "order": null,
            "overflow": null,
            "overflow_x": null,
            "overflow_y": null,
            "padding": null,
            "right": null,
            "top": null,
            "visibility": null,
            "width": null
          }
        },
        "ace7813266ff4f7db2dac2b7f8ca2dad": {
          "model_module": "@jupyter-widgets/base",
          "model_module_version": "1.2.0",
          "model_name": "LayoutModel",
          "state": {
            "_model_module": "@jupyter-widgets/base",
            "_model_module_version": "1.2.0",
            "_model_name": "LayoutModel",
            "_view_count": null,
            "_view_module": "@jupyter-widgets/base",
            "_view_module_version": "1.2.0",
            "_view_name": "LayoutView",
            "align_content": null,
            "align_items": null,
            "align_self": null,
            "border": null,
            "bottom": null,
            "display": null,
            "flex": null,
            "flex_flow": null,
            "grid_area": null,
            "grid_auto_columns": null,
            "grid_auto_flow": null,
            "grid_auto_rows": null,
            "grid_column": null,
            "grid_gap": null,
            "grid_row": null,
            "grid_template_areas": null,
            "grid_template_columns": null,
            "grid_template_rows": null,
            "height": null,
            "justify_content": null,
            "justify_items": null,
            "left": null,
            "margin": null,
            "max_height": null,
            "max_width": null,
            "min_height": null,
            "min_width": null,
            "object_fit": null,
            "object_position": null,
            "order": null,
            "overflow": null,
            "overflow_x": null,
            "overflow_y": null,
            "padding": null,
            "right": null,
            "top": null,
            "visibility": null,
            "width": null
          }
        },
        "b139b7d375874cfbad98b62863394259": {
          "model_module": "@jupyter-widgets/base",
          "model_module_version": "1.2.0",
          "model_name": "LayoutModel",
          "state": {
            "_model_module": "@jupyter-widgets/base",
            "_model_module_version": "1.2.0",
            "_model_name": "LayoutModel",
            "_view_count": null,
            "_view_module": "@jupyter-widgets/base",
            "_view_module_version": "1.2.0",
            "_view_name": "LayoutView",
            "align_content": null,
            "align_items": null,
            "align_self": null,
            "border": null,
            "bottom": null,
            "display": null,
            "flex": null,
            "flex_flow": null,
            "grid_area": null,
            "grid_auto_columns": null,
            "grid_auto_flow": null,
            "grid_auto_rows": null,
            "grid_column": null,
            "grid_gap": null,
            "grid_row": null,
            "grid_template_areas": null,
            "grid_template_columns": null,
            "grid_template_rows": null,
            "height": null,
            "justify_content": null,
            "justify_items": null,
            "left": null,
            "margin": null,
            "max_height": null,
            "max_width": null,
            "min_height": null,
            "min_width": null,
            "object_fit": null,
            "object_position": null,
            "order": null,
            "overflow": null,
            "overflow_x": null,
            "overflow_y": null,
            "padding": null,
            "right": null,
            "top": null,
            "visibility": null,
            "width": null
          }
        },
        "bfb1271828e144e382f4ff4e6914de50": {
          "model_module": "@jupyter-widgets/controls",
          "model_module_version": "1.5.0",
          "model_name": "HBoxModel",
          "state": {
            "_dom_classes": [],
            "_model_module": "@jupyter-widgets/controls",
            "_model_module_version": "1.5.0",
            "_model_name": "HBoxModel",
            "_view_count": null,
            "_view_module": "@jupyter-widgets/controls",
            "_view_module_version": "1.5.0",
            "_view_name": "HBoxView",
            "box_style": "",
            "children": [
              "IPY_MODEL_6da8f11945dd41528d1d5dfc65e6609e",
              "IPY_MODEL_f6b2d552c84c452ab761553b13f62314",
              "IPY_MODEL_d2734c389c05404082ae03258d4608e1"
            ],
            "layout": "IPY_MODEL_e3b73d73700a4f28ac535c4cdb007010"
          }
        },
        "bfefdc7bb2584e6895dbc3f3a03a5713": {
          "model_module": "@jupyter-widgets/base",
          "model_module_version": "1.2.0",
          "model_name": "LayoutModel",
          "state": {
            "_model_module": "@jupyter-widgets/base",
            "_model_module_version": "1.2.0",
            "_model_name": "LayoutModel",
            "_view_count": null,
            "_view_module": "@jupyter-widgets/base",
            "_view_module_version": "1.2.0",
            "_view_name": "LayoutView",
            "align_content": null,
            "align_items": null,
            "align_self": null,
            "border": null,
            "bottom": null,
            "display": null,
            "flex": null,
            "flex_flow": null,
            "grid_area": null,
            "grid_auto_columns": null,
            "grid_auto_flow": null,
            "grid_auto_rows": null,
            "grid_column": null,
            "grid_gap": null,
            "grid_row": null,
            "grid_template_areas": null,
            "grid_template_columns": null,
            "grid_template_rows": null,
            "height": null,
            "justify_content": null,
            "justify_items": null,
            "left": null,
            "margin": null,
            "max_height": null,
            "max_width": null,
            "min_height": null,
            "min_width": null,
            "object_fit": null,
            "object_position": null,
            "order": null,
            "overflow": null,
            "overflow_x": null,
            "overflow_y": null,
            "padding": null,
            "right": null,
            "top": null,
            "visibility": null,
            "width": null
          }
        },
        "c0da0f3a6ed74fbd8f0222f280fa7801": {
          "model_module": "@jupyter-widgets/controls",
          "model_module_version": "1.5.0",
          "model_name": "HTMLModel",
          "state": {
            "_dom_classes": [],
            "_model_module": "@jupyter-widgets/controls",
            "_model_module_version": "1.5.0",
            "_model_name": "HTMLModel",
            "_view_count": null,
            "_view_module": "@jupyter-widgets/controls",
            "_view_module_version": "1.5.0",
            "_view_name": "HTMLView",
            "description": "",
            "description_tooltip": null,
            "layout": "IPY_MODEL_16d7545d463542f59800058904382ed9",
            "placeholder": "​",
            "style": "IPY_MODEL_4e6c1cc85cc64aa8b0f5432bb625475f",
            "value": " 3914/3914 [00:01&lt;00:00, 2104.86 sentence/s]"
          }
        },
        "d2734c389c05404082ae03258d4608e1": {
          "model_module": "@jupyter-widgets/controls",
          "model_module_version": "1.5.0",
          "model_name": "HTMLModel",
          "state": {
            "_dom_classes": [],
            "_model_module": "@jupyter-widgets/controls",
            "_model_module_version": "1.5.0",
            "_model_name": "HTMLModel",
            "_view_count": null,
            "_view_module": "@jupyter-widgets/controls",
            "_view_module_version": "1.5.0",
            "_view_name": "HTMLView",
            "description": "",
            "description_tooltip": null,
            "layout": "IPY_MODEL_bfefdc7bb2584e6895dbc3f3a03a5713",
            "placeholder": "​",
            "style": "IPY_MODEL_1e303830c1b44f3ba5313a59a00921e8",
            "value": " 181/181 [00:12&lt;00:00, 12.36file/s]"
          }
        },
        "d95bb3f8ee2149b397d4044b35c64ef8": {
          "model_module": "@jupyter-widgets/base",
          "model_module_version": "1.2.0",
          "model_name": "LayoutModel",
          "state": {
            "_model_module": "@jupyter-widgets/base",
            "_model_module_version": "1.2.0",
            "_model_name": "LayoutModel",
            "_view_count": null,
            "_view_module": "@jupyter-widgets/base",
            "_view_module_version": "1.2.0",
            "_view_name": "LayoutView",
            "align_content": null,
            "align_items": null,
            "align_self": null,
            "border": null,
            "bottom": null,
            "display": null,
            "flex": null,
            "flex_flow": null,
            "grid_area": null,
            "grid_auto_columns": null,
            "grid_auto_flow": null,
            "grid_auto_rows": null,
            "grid_column": null,
            "grid_gap": null,
            "grid_row": null,
            "grid_template_areas": null,
            "grid_template_columns": null,
            "grid_template_rows": null,
            "height": null,
            "justify_content": null,
            "justify_items": null,
            "left": null,
            "margin": null,
            "max_height": null,
            "max_width": null,
            "min_height": null,
            "min_width": null,
            "object_fit": null,
            "object_position": null,
            "order": null,
            "overflow": null,
            "overflow_x": null,
            "overflow_y": null,
            "padding": null,
            "right": null,
            "top": null,
            "visibility": null,
            "width": null
          }
        },
        "e3b73d73700a4f28ac535c4cdb007010": {
          "model_module": "@jupyter-widgets/base",
          "model_module_version": "1.2.0",
          "model_name": "LayoutModel",
          "state": {
            "_model_module": "@jupyter-widgets/base",
            "_model_module_version": "1.2.0",
            "_model_name": "LayoutModel",
            "_view_count": null,
            "_view_module": "@jupyter-widgets/base",
            "_view_module_version": "1.2.0",
            "_view_name": "LayoutView",
            "align_content": null,
            "align_items": null,
            "align_self": null,
            "border": null,
            "bottom": null,
            "display": null,
            "flex": null,
            "flex_flow": null,
            "grid_area": null,
            "grid_auto_columns": null,
            "grid_auto_flow": null,
            "grid_auto_rows": null,
            "grid_column": null,
            "grid_gap": null,
            "grid_row": null,
            "grid_template_areas": null,
            "grid_template_columns": null,
            "grid_template_rows": null,
            "height": null,
            "justify_content": null,
            "justify_items": null,
            "left": null,
            "margin": null,
            "max_height": null,
            "max_width": null,
            "min_height": null,
            "min_width": null,
            "object_fit": null,
            "object_position": null,
            "order": null,
            "overflow": null,
            "overflow_x": null,
            "overflow_y": null,
            "padding": null,
            "right": null,
            "top": null,
            "visibility": null,
            "width": null
          }
        },
        "f6b2d552c84c452ab761553b13f62314": {
          "model_module": "@jupyter-widgets/controls",
          "model_module_version": "1.5.0",
          "model_name": "FloatProgressModel",
          "state": {
            "_dom_classes": [],
            "_model_module": "@jupyter-widgets/controls",
            "_model_module_version": "1.5.0",
            "_model_name": "FloatProgressModel",
            "_view_count": null,
            "_view_module": "@jupyter-widgets/controls",
            "_view_module_version": "1.5.0",
            "_view_name": "ProgressView",
            "bar_style": "success",
            "description": "",
            "description_tooltip": null,
            "layout": "IPY_MODEL_ace7813266ff4f7db2dac2b7f8ca2dad",
            "max": 181,
            "min": 0,
            "orientation": "horizontal",
            "style": "IPY_MODEL_7c873ba961d4428490d156554844ca52",
            "value": 181
          }
        },
        "f748b6657cf1430b8011cfb0389d06ae": {
          "model_module": "@jupyter-widgets/controls",
          "model_module_version": "1.5.0",
          "model_name": "DescriptionStyleModel",
          "state": {
            "_model_module": "@jupyter-widgets/controls",
            "_model_module_version": "1.5.0",
            "_model_name": "DescriptionStyleModel",
            "_view_count": null,
            "_view_module": "@jupyter-widgets/base",
            "_view_module_version": "1.2.0",
            "_view_name": "StyleView",
            "description_width": ""
          }
        }
      }
    }
  },
  "nbformat": 4,
  "nbformat_minor": 0
}
